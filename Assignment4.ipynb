{
 "cells": [
  {
   "cell_type": "code",
   "execution_count": 65,
   "metadata": {},
   "outputs": [],
   "source": [
    "import os\n",
    "import re\n",
    "import string\n",
    "import matplotlib.pyplot as plt\n",
    "import nltk\n",
    "import numpy as np\n",
    "from nltk.corpus import gutenberg"
   ]
  },
  {
   "cell_type": "code",
   "execution_count": 32,
   "metadata": {
    "collapsed": true
   },
   "outputs": [],
   "source": [
    "def normalize_text(text):\n",
    "    text = text.lower()\n",
    "    text = re.sub('['+string.punctuation+']', ' ', text)\n",
    "    text = re.sub('[0-9]','',text)\n",
    "    return text"
   ]
  },
  {
   "cell_type": "code",
   "execution_count": 33,
   "metadata": {
    "collapsed": true
   },
   "outputs": [],
   "source": [
    "def generate_vocabs(dir_name):\n",
    "    vocabs = []\n",
    "    for filename in os.listdir(dir_name):\n",
    "        print(\"Reading file:\",filename)\n",
    "        name = dir_name + filename\n",
    "        with open(name,encoding='utf8') as f:\n",
    "            text = f.read()\n",
    "            text = normalize_text(text)\n",
    "            text = list(set(text.split()))\n",
    "            vocabs.append(text)\n",
    "    return vocabs"
   ]
  },
  {
   "cell_type": "code",
   "execution_count": 34,
   "metadata": {
    "collapsed": true
   },
   "outputs": [],
   "source": [
    "def get_counts(dir_name):\n",
    "    counts = []\n",
    "    N = []\n",
    "    for filename in os.listdir(dir_name):\n",
    "        name = dir_name + filename\n",
    "        dict_ = {}\n",
    "        with open(name,encoding='utf8') as f:\n",
    "            text = f.read()\n",
    "            text = normalize_text(text)\n",
    "            text = text.split()\n",
    "            for word in text:\n",
    "                if word not in dict_.keys():\n",
    "                    dict_[word] = 1\n",
    "                else:\n",
    "                    dict_[word] += 1\n",
    "            N.append(len(text))\n",
    "        counts.append(dict_)\n",
    "    return counts, N"
   ]
  },
  {
   "cell_type": "code",
   "execution_count": 35,
   "metadata": {},
   "outputs": [
    {
     "name": "stdout",
     "output_type": "stream",
     "text": [
      "Reading file: train1.txt\n",
      "Reading file: train2.txt\n",
      "Reading file: train3.txt\n",
      "Reading file: train4.txt\n",
      "Reading file: train5.txt\n",
      "5\n"
     ]
    }
   ],
   "source": [
    "train_vocabs = generate_vocabs('Materials/train/')\n",
    "print(len(train_vocabs))"
   ]
  },
  {
   "cell_type": "code",
   "execution_count": 36,
   "metadata": {},
   "outputs": [
    {
     "name": "stdout",
     "output_type": "stream",
     "text": [
      "Reading file: test.txt\n"
     ]
    }
   ],
   "source": [
    "test_vocabs = generate_vocabs('Materials/test/')"
   ]
  },
  {
   "cell_type": "code",
   "execution_count": 37,
   "metadata": {
    "collapsed": true
   },
   "outputs": [],
   "source": [
    "test_counts, N = get_counts('Materials/test/')"
   ]
  },
  {
   "cell_type": "code",
   "execution_count": 29,
   "metadata": {
    "collapsed": true
   },
   "outputs": [],
   "source": [
    "def get_oov_rates(train_dir, test_dir):\n",
    "    oov_rates = []\n",
    "    train_vocabs = generate_vocabs(train_dir)\n",
    "    test_vocabs = generate_vocabs(test_dir)\n",
    "    test_counts, N = get_counts(test_dir)\n",
    "    for i in range(len(test_vocabs)):\n",
    "        oov_rate = []\n",
    "        #N = len(test_vocab)\n",
    "        n = N[i]\n",
    "        for train_vocab in train_vocabs:\n",
    "            count_oov = 0\n",
    "            oov_words = []\n",
    "            dict_oc = {}\n",
    "            for test_token in test_vocabs[i]:\n",
    "                if test_token not in train_vocab:\n",
    "                    count_oov += test_counts[i][test_token]\n",
    "                    dict_oc[test_token] = test_counts[i][test_token]\n",
    "                    oov_words.append(test_token)\n",
    "            rate = count_oov / n\n",
    "            oov_rate.append(rate)\n",
    "#             sorted_d = sorted( ((v,k) for k,v in dict_oc.items()), reverse=True)\n",
    "#             print(\"Count:\",count_oov)\n",
    "#             print(sorted_d[:40])\n",
    "#             print(\"\\n\\n\")\n",
    "        oov_rates.append(oov_rate)\n",
    "    return oov_rates"
   ]
  },
  {
   "cell_type": "code",
   "execution_count": 30,
   "metadata": {
    "collapsed": true
   },
   "outputs": [],
   "source": [
    "def get_vocab_lengths(vocabs):\n",
    "    count = []\n",
    "    for vocab in vocabs:\n",
    "        count.append(len(vocab))\n",
    "    return count"
   ]
  },
  {
   "cell_type": "code",
   "execution_count": 31,
   "metadata": {},
   "outputs": [
    {
     "name": "stdout",
     "output_type": "stream",
     "text": [
      "Reading file: train1.txt\n",
      "Reading file: train2.txt\n",
      "Reading file: train3.txt\n",
      "Reading file: train4.txt\n",
      "Reading file: train5.txt\n",
      "Reading file: test.txt\n",
      "[301, 424, 655, 1758, 3151]\n",
      "[[0.5595108963613056, 0.5745652959931631, 0.4407191927160372, 0.29849127304999507, 0.2055024159353121]]\n"
     ]
    }
   ],
   "source": [
    "oov_rates = get_oov_rates('Materials/train/','Materials/test/')\n",
    "train_vocab_lengths = get_vocab_lengths(train_vocabs)\n",
    "print(train_vocab_lengths)\n",
    "print(oov_rates)"
   ]
  },
  {
   "cell_type": "code",
   "execution_count": 105,
   "metadata": {},
   "outputs": [
    {
     "data": {
      "image/png": "[encoded data removed]",
      "text/plain": [
       "<matplotlib.figure.Figure at 0x1c387e935c0>"
      ]
     },
     "metadata": {},
     "output_type": "display_data"
    }
   ],
   "source": [
    "y_s = oov_rates[0]\n",
    "plt.xscale('log')\n",
    "plt.yscale('log')\n",
    "plt.xlabel('Vocabulary size')\n",
    "plt.ylabel('OOV Rate')\n",
    "plt.title('OOV Rate variation with vocabulary size')\n",
    "plt.plot(train_vocab_lengths,y_s,'-o')\n",
    "plt.show()"
   ]
  },
  {
   "cell_type": "markdown",
   "metadata": {},
   "source": [
    "$Explanation$ $of$ $the$ $plot$.\n",
    "<p>We see that the plot above more or less follows the standard power law distribution for OOV rate, and the vocabulary size. But we see a slight deviation for vocabulary of the second text. This can somewhat be attributed to the fact that the second text context is actually very different from the other training texts, and the test text. The second training file is based on geo-politics, whereas the other files are all primarily scientific topics. Hence, we can say due to this we see a higher OOV rate for the second text than the first one, even though we increase the vocabulary size.</p>"
   ]
  },
  {
   "cell_type": "markdown",
   "metadata": {},
   "source": [
    "$How$ $do$ $Out-Of-Vocabulary$ $words$ $affect$ $tasks$ $like$ $computing$ $probability$ $for$ $a$ $bigram$ $i.e.$ $P(w0|w−1)?$ $Explain$ $a$ $possible$ $remedy$. <br><br>\n",
    " This is what we call an open vocabulary problem. So our vocabulary is unbounded, and we may encounter unknown words later. An open vocabulary system is one in which we model these potential unknown words in the test set by adding a\n",
    "pseudo-word called `<UNK>`.<br>\n",
    "There  are  two  common  ways  to  train  the  probabilities  of  the  unknown  word model `<UNK>`. The first one is to turn the problem back into a closed vocabulary one by choosing a fixed vocabulary in advance:\n",
    "\n",
    "1. Choose a vocabulary (word list) that is fixed in advance.\n",
    "2. Convert in the training set any word that is not in this set (any OOV word) to the unknown word token `<UNK>` in a text normalization step.\n",
    "3. Estimate the probabilities for `<UNK>` from its counts just like any other regular word in the training set. \n",
    "\n",
    "The second alternative, in situations where we don’t have a prior vocabulary in advance, is to create such a vocabulary implicitly, replacing words in the training data by `<UNK>` based on their frequency. For example we can replace by `<UNK>` all words that occur fewer than $n$ times in the training set, where $n$ is some small number, or equivalently select a vocabulary size $V$ in advance (say 50,000) and choose the top $V$ words by frequency and replace the rest by `<UNK>`. In either case we then proceed to train the language model as before, treating `<UNK>` like a regular word."
   ]
  },
  {
   "cell_type": "markdown",
   "metadata": {},
   "source": [
    "## Exercise 3"
   ]
  },
  {
   "cell_type": "code",
   "execution_count": 118,
   "metadata": {},
   "outputs": [],
   "source": [
    "fileid = 'carroll-alice.txt'\n",
    "alice = gutenberg.raw(fileid)\n",
    "alice = alice.lower()\n",
    "\n",
    "list1 = [\"you're\",\"your\",\"you'll\",\"you've\",\"you'd\",\"yours\",\"youself\",\"yourself\"]\n",
    "#list1 = [\"you'll\",\"you've\",\"your\"]\n",
    "for w in list1:\n",
    "    alice = alice.replace(w,\"you\")\n",
    "alice = re.sub('['+string.punctuation+']', '', alice)\n",
    "alice = re.sub('[0-9]','',alice)\n",
    "#print(alice)"
   ]
  },
  {
   "cell_type": "code",
   "execution_count": 119,
   "metadata": {
    "collapsed": true
   },
   "outputs": [],
   "source": [
    "with open(\"alice.txt\",'w') as f:\n",
    "    f.write(alice)"
   ]
  },
  {
   "cell_type": "code",
   "execution_count": 120,
   "metadata": {},
   "outputs": [
    {
     "data": {
      "text/plain": [
       "26382"
      ]
     },
     "execution_count": 120,
     "metadata": {},
     "output_type": "execute_result"
    }
   ],
   "source": [
    "alice_list = alice.split()\n",
    "len(alice_list)"
   ]
  },
  {
   "cell_type": "code",
   "execution_count": 121,
   "metadata": {},
   "outputs": [
    {
     "name": "stdout",
     "output_type": "stream",
     "text": [
      "477\n"
     ]
    }
   ],
   "source": [
    "indices = [i for i, x in enumerate(alice_list) if x == \"you\"]\n",
    "print(len(indices))"
   ]
  },
  {
   "cell_type": "code",
   "execution_count": 142,
   "metadata": {
    "scrolled": true
   },
   "outputs": [],
   "source": [
    "c_you = len(indices)\n",
    "N = len(alice_list)\n",
    "p_you = len(indices) / len(alice_list)\n",
    "#print(\"Pw:\",p_you)\n",
    "corrs = []\n",
    "for d in range(1,51):\n",
    "    count = 0\n",
    "    for i in indices:\n",
    "        if (i+d) in indices:\n",
    "            count += 1\n",
    "            #if d >= 2 and d <=4:\n",
    "                #print(\"d:\",d,\"text:\",alice_list[i:i+d+1])\n",
    "    p_d = count / N\n",
    "    corr = p_d / (p_you**2)\n",
    "    corrs.append(corr)"
   ]
  },
  {
   "cell_type": "code",
   "execution_count": 143,
   "metadata": {},
   "outputs": [],
   "source": [
    "#print(corrs)"
   ]
  },
  {
   "cell_type": "code",
   "execution_count": 145,
   "metadata": {},
   "outputs": [
    {
     "data": {
      "image/png": "[encoded data removed]",
      "text/plain": [
       "<matplotlib.figure.Figure at 0x1c3882ec898>"
      ]
     },
     "metadata": {},
     "output_type": "display_data"
    }
   ],
   "source": [
    "plt.xlabel('Distance')\n",
    "plt.ylabel('Correlation')\n",
    "#plt.xscale('log')\n",
    "plt.title('Long Term Dependency')\n",
    "plt.grid()\n",
    "plt.plot(range(1,51),corrs,'o-')\n",
    "plt.plot(range(1,51),np.ones(len(corrs)),'--')\n",
    "#plt.plot(range(len(c2)),c1)\n",
    "plt.show()"
   ]
  },
  {
   "cell_type": "code",
   "execution_count": 107,
   "metadata": {},
   "outputs": [
    {
     "data": {
      "text/plain": [
       "0.03192828716704765"
      ]
     },
     "execution_count": 107,
     "metadata": {},
     "output_type": "execute_result"
    }
   ],
   "source": [
    "from math import log2\n",
    "h1 = -(((10/40)*log2(10/40))+((30/40)*log2(30/40)))\n",
    "h2 = -(((9/39)*log2(9/39))+((30/39)*log2(30/39)))\n",
    "h1 - h2"
   ]
  },
  {
   "cell_type": "code",
   "execution_count": 109,
   "metadata": {},
   "outputs": [
    {
     "data": {
      "text/plain": [
       "0.3112781244591328"
      ]
     },
     "execution_count": 109,
     "metadata": {},
     "output_type": "execute_result"
    }
   ],
   "source": [
    "(1/4)*log2(2/3) + (1/2) * log2(4/3) + (1/4)"
   ]
  },
  {
   "cell_type": "code",
   "execution_count": null,
   "metadata": {
    "collapsed": true
   },
   "outputs": [],
   "source": []
  }
 ],
 "metadata": {
  "kernelspec": {
   "display_name": "Python 3",
   "language": "python",
   "name": "python3"
  },
  "language_info": {
   "codemirror_mode": {
    "name": "ipython",
    "version": 3
   },
   "file_extension": ".py",
   "mimetype": "text/x-python",
   "name": "python",
   "nbconvert_exporter": "python",
   "pygments_lexer": "ipython3",
   "version": "3.6.1"
  }
 },
 "nbformat": 4,
 "nbformat_minor": 2
}
