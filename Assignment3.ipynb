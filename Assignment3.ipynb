{
 "cells": [
  {
   "cell_type": "code",
   "execution_count": 1,
   "metadata": {
    "collapsed": true
   },
   "outputs": [],
   "source": [
    "import re\n",
    "import string\n",
    "import nltk\n",
    "import math"
   ]
  },
  {
   "cell_type": "code",
   "execution_count": 2,
   "metadata": {},
   "outputs": [
    {
     "data": {
      "text/plain": [
       "['I', 'am', 'a', 'boy']"
      ]
     },
     "execution_count": 2,
     "metadata": {},
     "output_type": "execute_result"
    }
   ],
   "source": [
    "s = \"I am a boy\"\n",
    "nltk.word_tokenize(s)"
   ]
  },
  {
   "cell_type": "code",
   "execution_count": 3,
   "metadata": {
    "collapsed": true
   },
   "outputs": [],
   "source": [
    "def pre_process_text(text):\n",
    "    text = text.lower()\n",
    "    text = re.sub('['+string.punctuation+']', ' ', text)\n",
    "    text = re.sub('[0-9]','',text)\n",
    "    return text"
   ]
  },
  {
   "cell_type": "code",
   "execution_count": 4,
   "metadata": {
    "collapsed": true
   },
   "outputs": [],
   "source": [
    "def token_dict(file_name):\n",
    "    dict1 = {}\n",
    "    with open(file_name,encoding=\"utf-8\") as text:\n",
    "        for line in text:\n",
    "            # We do not care for case, so move to lower case, and also remove all punctuations and all numbers\n",
    "            line = pre_process_text(line)\n",
    "            # Tokenize the text using NLTK's word_tokenize\n",
    "            temp = nltk.word_tokenize(line)\n",
    "            #num_tokens += len(temp)\n",
    "            for word in temp:\n",
    "                if word not in dict1:\n",
    "                    dict1[word] = 1\n",
    "                else:\n",
    "                    dict1[word] += 1\n",
    "    return dict1"
   ]
  },
  {
   "cell_type": "code",
   "execution_count": 5,
   "metadata": {},
   "outputs": [
    {
     "name": "stdout",
     "output_type": "stream",
     "text": [
      "Vocab length of this English Text: 12497\n"
     ]
    }
   ],
   "source": [
    "# The Holy Bible in English\n",
    "en_dict1 = token_dict(\"English.txt\")\n",
    "print('Vocab length of this English Text:',len(en_dict1))"
   ]
  },
  {
   "cell_type": "code",
   "execution_count": 6,
   "metadata": {},
   "outputs": [
    {
     "name": "stdout",
     "output_type": "stream",
     "text": [
      "Vocab length in German text: 20310\n"
     ]
    }
   ],
   "source": [
    "# We do the same as above for German translation of The Holy Bible\n",
    "de_dict = token_dict(\"German.txt\")\n",
    "print(\"Vocab length in German text:\",len(de_dict))"
   ]
  },
  {
   "cell_type": "code",
   "execution_count": 7,
   "metadata": {
    "collapsed": true
   },
   "outputs": [],
   "source": [
    "def calculate_entropy(lang_dict):\n",
    "    sum_ = 0\n",
    "    num_toks = 0\n",
    "    # Counting the total tokens\n",
    "    for token in lang_dict:\n",
    "        num_toks += lang_dict[token]\n",
    "    # Calculate Entropy\n",
    "    for token in lang_dict:\n",
    "        prob = lang_dict[token] / num_toks\n",
    "        sum_ += -(prob) * math.log2(prob)\n",
    "    return sum_"
   ]
  },
  {
   "cell_type": "code",
   "execution_count": 8,
   "metadata": {},
   "outputs": [
    {
     "name": "stdout",
     "output_type": "stream",
     "text": [
      "Entropy is 8.658593690721707 bits\n"
     ]
    }
   ],
   "source": [
    "entropy_eng1 = calculate_entropy(en_dict1)\n",
    "print(\"Entropy is\",entropy_eng1,\"bits\")"
   ]
  },
  {
   "cell_type": "code",
   "execution_count": 9,
   "metadata": {},
   "outputs": [
    {
     "name": "stdout",
     "output_type": "stream",
     "text": [
      "Entropy is 9.600328729633267 bits\n"
     ]
    }
   ],
   "source": [
    "entropy_de = calculate_entropy(de_dict)\n",
    "print(\"Entropy is\",entropy_de,\"bits\")"
   ]
  },
  {
   "cell_type": "code",
   "execution_count": 10,
   "metadata": {},
   "outputs": [
    {
     "name": "stdout",
     "output_type": "stream",
     "text": [
      "Vocab length of this English Text: 5840\n"
     ]
    }
   ],
   "source": [
    "# Treasure Island text\n",
    "en_dict2 = token_dict(\"treasure_island.txt\")\n",
    "print('Vocab length of this English Text:',len(en_dict2))"
   ]
  },
  {
   "cell_type": "code",
   "execution_count": 11,
   "metadata": {},
   "outputs": [
    {
     "name": "stdout",
     "output_type": "stream",
     "text": [
      "Entropy is 9.053948694862521 bits\n"
     ]
    }
   ],
   "source": [
    "entropy_eng2 = calculate_entropy(en_dict2)\n",
    "print(\"Entropy is\",entropy_eng2,\"bits\")"
   ]
  },
  {
   "cell_type": "code",
   "execution_count": 12,
   "metadata": {
    "collapsed": true
   },
   "outputs": [],
   "source": [
    "def lidstone_smoothing(keys,lang_dict,alpha=0.1):\n",
    "    #sum_ = 0\n",
    "    num_toks = 0\n",
    "    prob_dict = {}\n",
    "    # Counting the total tokens\n",
    "    for token in lang_dict:\n",
    "        num_toks += lang_dict[token]\n",
    "    v = len(keys)\n",
    "    for token in keys:\n",
    "        if token in lang_dict.keys():\n",
    "            x = lang_dict[token]\n",
    "        else:\n",
    "            x = 0\n",
    "        prob_dict[token] = (x + alpha) / (num_toks + (alpha * v))\n",
    "    return prob_dict"
   ]
  },
  {
   "cell_type": "code",
   "execution_count": 13,
   "metadata": {
    "collapsed": true
   },
   "outputs": [],
   "source": [
    "def kl_divergence(text1,text2):\n",
    "    dict1 = token_dict(text1)\n",
    "    dict2 = token_dict(text2)\n",
    "    keys = dict1.keys()\n",
    "    s_dict1 = lidstone_smoothing(keys, dict1)\n",
    "    s_dict2 = lidstone_smoothing(keys, dict2)\n",
    "    sum_ = 0\n",
    "    for token in keys:\n",
    "        sum_ += s_dict1[token] * math.log2(s_dict1[token] / s_dict2[token])\n",
    "    return sum_"
   ]
  },
  {
   "cell_type": "code",
   "execution_count": 14,
   "metadata": {},
   "outputs": [
    {
     "name": "stdout",
     "output_type": "stream",
     "text": [
      "12.602883864092231\n"
     ]
    }
   ],
   "source": [
    "# English to German\n",
    "text1 = \"English.txt\"\n",
    "text2 = \"German.txt\"\n",
    "print(kl_divergence(text1,text2))"
   ]
  },
  {
   "cell_type": "code",
   "execution_count": 15,
   "metadata": {},
   "outputs": [
    {
     "name": "stdout",
     "output_type": "stream",
     "text": [
      "11.867298419162317\n"
     ]
    }
   ],
   "source": [
    "# German to English\n",
    "text1 = \"German.txt\"\n",
    "text2 = \"English.txt\"\n",
    "print(kl_divergence(text1,text2))"
   ]
  },
  {
   "cell_type": "code",
   "execution_count": 16,
   "metadata": {},
   "outputs": [
    {
     "name": "stdout",
     "output_type": "stream",
     "text": [
      "1.8667675782720918\n"
     ]
    }
   ],
   "source": [
    "text1 = \"English.txt\"\n",
    "text2 = \"treasure_island.txt\"\n",
    "print(kl_divergence(text1, text2))"
   ]
  },
  {
   "cell_type": "code",
   "execution_count": 17,
   "metadata": {},
   "outputs": [
    {
     "name": "stdout",
     "output_type": "stream",
     "text": [
      "2.074006389589388\n"
     ]
    }
   ],
   "source": [
    "text1 = \"treasure_island.txt\"\n",
    "text2 = \"English.txt\"\n",
    "print(kl_divergence(text1, text2))"
   ]
  },
  {
   "cell_type": "code",
   "execution_count": 18,
   "metadata": {},
   "outputs": [
    {
     "name": "stdout",
     "output_type": "stream",
     "text": [
      "12.276553588895016\n"
     ]
    }
   ],
   "source": [
    "text1 = \"treasure_island.txt\"\n",
    "text2 = \"German.txt\"\n",
    "print(kl_divergence(text1, text2))"
   ]
  },
  {
   "cell_type": "code",
   "execution_count": 19,
   "metadata": {},
   "outputs": [
    {
     "name": "stdout",
     "output_type": "stream",
     "text": [
      "9.063221605075231\n"
     ]
    }
   ],
   "source": [
    "text1 = \"German.txt\"\n",
    "text2 = \"treasure_island.txt\"\n",
    "print(kl_divergence(text1, text2))"
   ]
  }
 ],
 "metadata": {
  "kernelspec": {
   "display_name": "Python 3",
   "language": "python",
   "name": "python3"
  },
  "language_info": {
   "codemirror_mode": {
    "name": "ipython",
    "version": 3
   },
   "file_extension": ".py",
   "mimetype": "text/x-python",
   "name": "python",
   "nbconvert_exporter": "python",
   "pygments_lexer": "ipython3",
   "version": "3.6.1"
  }
 },
 "nbformat": 4,
 "nbformat_minor": 2
}
