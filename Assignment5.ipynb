{
 "cells": [
  {
   "cell_type": "code",
   "execution_count": 26,
   "metadata": {
    "collapsed": true
   },
   "outputs": [],
   "source": [
    "import math\n",
    "import os\n",
    "import re\n",
    "import string\n",
    "import matplotlib.pyplot as plt\n",
    "import numpy as np"
   ]
  },
  {
   "cell_type": "code",
   "execution_count": 27,
   "metadata": {
    "collapsed": true
   },
   "outputs": [],
   "source": [
    "train_path = \"data/train.txt\""
   ]
  },
  {
   "cell_type": "code",
   "execution_count": 28,
   "metadata": {
    "collapsed": true
   },
   "outputs": [],
   "source": [
    "def normalize_text(name):\n",
    "    print(\"Reading file:\",name)\n",
    "    with open(name,encoding='utf8') as f:\n",
    "        text = f.read()\n",
    "        text = text.lower()\n",
    "        text = re.sub('['+string.punctuation+']', '', text)\n",
    "        text = re.sub('[0-9]','',text)\n",
    "    return text"
   ]
  },
  {
   "cell_type": "code",
   "execution_count": 29,
   "metadata": {
    "collapsed": true
   },
   "outputs": [],
   "source": [
    "def get_counts(text):\n",
    "    uni_counts = {}\n",
    "    bi_counts = {}\n",
    "    tri_counts = {}\n",
    "    # n=1\n",
    "    txt_list = text.split()\n",
    "    for w in txt_list:\n",
    "        if w not in uni_counts:\n",
    "            uni_counts[w] = 1\n",
    "        else:\n",
    "            uni_counts[w] += 1\n",
    "    # n=2\n",
    "    bi_grams = list(zip(txt_list,txt_list[1:]))\n",
    "    for g in bi_grams:\n",
    "        if g not in bi_counts:\n",
    "            bi_counts[g] = 1\n",
    "        else:\n",
    "            bi_counts[g] += 1\n",
    "    bi_counts = {k: v for k, v in bi_counts.items() if v > 1}\n",
    "    # n=3\n",
    "    tri_grams = list(zip(txt_list,txt_list[1:],txt_list[2:]))\n",
    "    for g in tri_grams:\n",
    "        if g not in tri_counts:\n",
    "            tri_counts[g] = 1\n",
    "        else:\n",
    "            tri_counts[g] += 1\n",
    "    tri_counts = {k: v for k, v in tri_counts.items() if v > 1}\n",
    "    return uni_counts, bi_counts, tri_counts"
   ]
  },
  {
   "cell_type": "code",
   "execution_count": 30,
   "metadata": {},
   "outputs": [
    {
     "name": "stdout",
     "output_type": "stream",
     "text": [
      "Reading file: data/train.txt\n"
     ]
    }
   ],
   "source": [
    "train_text = normalize_text(train_path)\n",
    "N = len(train_text.split())\n",
    "train_1, train_2, train_3 = get_counts(train_text)\n",
    "V = len(train_1)\n",
    "#print(train_3)"
   ]
  },
  {
   "cell_type": "code",
   "execution_count": 31,
   "metadata": {
    "collapsed": true
   },
   "outputs": [],
   "source": [
    "'''\n",
    "take the normalized text in string format\n",
    "n denotes the n-gram vocab to generate\n",
    "prune : prunes n-grams that occur only once\n",
    "smooth : applies Laplace/Lidstone smoothing\n",
    "alpha : alpha value for smoothing\n",
    "'''\n",
    "def generate_probs(text,counts,smooth=False,alpha=0.0):\n",
    "    #vocabs = []\n",
    "    train_1,train_2, train_3 = counts[0],counts[1],counts[2]\n",
    "    N_c = len(train_1)\n",
    "    if not smooth:\n",
    "        probs_1 = {k:v/N_c for k,v in train_1.items()}\n",
    "        probs_2 = {k:v/train_1[k[0]] for k,v in train_2.items()}\n",
    "        probs_3 = {k:v/train_2[k[:-1]] for k,v in train_3.items()}\n",
    "    else:\n",
    "        probs_1 = {k:(v+alpha/(N_c+(alpha*V))) for k,v in train_1.items()}\n",
    "        probs_2 = {k:(v+alpha/(train_1[k[0]]+(alpha*V))) for k,v in train_2.items()}\n",
    "        probs_3 = {k:(v/(train_2[k[:-1]]+(alpha*V))) for k,v in train_3.items()}\n",
    "    return probs_1, probs_2, probs_3"
   ]
  },
  {
   "cell_type": "markdown",
   "metadata": {},
   "source": [
    "### Unsmoothed Probs"
   ]
  },
  {
   "cell_type": "code",
   "execution_count": 32,
   "metadata": {
    "collapsed": true
   },
   "outputs": [],
   "source": [
    "probs_1, probs_2, probs_3 = generate_probs(train_text,(train_1,train_2,train_3))"
   ]
  },
  {
   "cell_type": "code",
   "execution_count": 33,
   "metadata": {},
   "outputs": [
    {
     "name": "stdout",
     "output_type": "stream",
     "text": [
      "8331\n",
      "11895\n",
      "7622\n"
     ]
    }
   ],
   "source": [
    "print(len(probs_1))\n",
    "print(len(probs_2))\n",
    "print(len(probs_3))"
   ]
  },
  {
   "cell_type": "markdown",
   "metadata": {},
   "source": [
    "### Smoothed Probs"
   ]
  },
  {
   "cell_type": "code",
   "execution_count": 34,
   "metadata": {
    "collapsed": true
   },
   "outputs": [],
   "source": [
    "N = len(train_text)\n",
    "V = len(set(train_text))\n",
    "alpha = 0.1"
   ]
  },
  {
   "cell_type": "code",
   "execution_count": 35,
   "metadata": {
    "collapsed": true
   },
   "outputs": [],
   "source": [
    "#smoothed_vocabs_uni = generate_vocabs(train_text,1)\n",
    "#smoothed_vocabs_bi = generate_vocabs(train_text,2,prune=True)\n",
    "s_probs_1, s_probs_2, s_probs_3 = generate_probs(train_text,(train_1,train_2,train_3),smooth=True,alpha=0.1)"
   ]
  },
  {
   "cell_type": "markdown",
   "metadata": {},
   "source": [
    "## Compute Perplexity now"
   ]
  },
  {
   "cell_type": "code",
   "execution_count": 36,
   "metadata": {
    "collapsed": true
   },
   "outputs": [],
   "source": [
    "test_path = \"data/test.txt\""
   ]
  },
  {
   "cell_type": "code",
   "execution_count": 37,
   "metadata": {},
   "outputs": [
    {
     "name": "stdout",
     "output_type": "stream",
     "text": [
      "Reading file: data/test.txt\n"
     ]
    }
   ],
   "source": [
    "test_text = normalize_text(test_path)\n",
    "test_text = test_text.replace(\"“\",\"\")\n",
    "test_text = test_text.replace(\"”\",\"\")\n",
    "N_t = len(test_text.split())\n",
    "# test_vocabs_uni = rel_freqs(test_text,1)\n",
    "# test_vocabs_bi = rel_freqs(test_text,2)\n",
    "# test_vocabs_tri = rel_freqs(test_text,3)\n",
    "test_counts_1, test_counts_2, test_counts_3 = get_counts(test_text)\n",
    "testf_1 = {k:v/N_t for k,v in test_counts_1.items()}\n",
    "# testf_2 = {k:v/sum(test_counts_2.values()) for k,v in test_counts_2.items()}\n",
    "# testf_3 = {k:v/sum(test_counts_3.values()) for k,v in test_counts_3.items()}\n",
    "testf_2 = {k:v/N_t for k,v in test_counts_2.items()}\n",
    "testf_3 = {k:v/N_t for k,v in test_counts_3.items()}\n",
    "\n",
    "#print(test_text)"
   ]
  },
  {
   "cell_type": "code",
   "execution_count": 38,
   "metadata": {
    "collapsed": true
   },
   "outputs": [],
   "source": [
    "def compute_perplexity_1(test_dist, train_dist):\n",
    "    #print(len(list(train_dist.keys())[0]))\n",
    "    #print(len(list(test_dist.keys())[0]))\n",
    "    #assert len(list(train_dist.keys())[0]) == len(list(test_dist.keys())[0])\n",
    "    #n = list(train_dist.keys())[0]\n",
    "    pp = 0\n",
    "    V_1 = len(train_dist)\n",
    "    #bi_grams = list(zip(test_text,test_text[1:]))\n",
    "    uni_grams = test_text.split()\n",
    "    \n",
    "    for gram in test_dist.keys():\n",
    "        if gram in train_dist:\n",
    "            pp += test_dist[gram] * math.log(train_dist[gram])\n",
    "            ##pp += math.log(train_dist[gram])\n",
    "        else:\n",
    "            #pp += test_dist[gram] * math.log(alpha / (train_text.count(\" \".join(gram[:-1])) + alpha*V_t))\n",
    "            try:\n",
    "                pp += test_dist[gram] * math.log(alpha / (N + alpha*V_1))\n",
    "                ##pp += math.log(alpha / (train_2[gram[:-1]] + alpha*V))\n",
    "                #print(\"Here\")\n",
    "            except KeyError:\n",
    "                pp += 0\n",
    "    print(pp)\n",
    "    pp = math.exp(-pp)\n",
    "    return pp"
   ]
  },
  {
   "cell_type": "code",
   "execution_count": 39,
   "metadata": {
    "collapsed": true
   },
   "outputs": [],
   "source": [
    "def compute_perplexity_2(test_dist, train_dist, is_interpolated=False):\n",
    "    #print(len(list(train_dist.keys())[0]))\n",
    "    #print(len(list(test_dist.keys())[0]))\n",
    "    assert len(list(train_dist.keys())[0]) == len(list(test_dist.keys())[0])\n",
    "    n = list(train_dist.keys())[0]\n",
    "    pp = 0\n",
    "    V_2 = len(train_dist)\n",
    "    for gram in test_dist.keys():\n",
    "        if gram in train_dist:\n",
    "            \n",
    "            pp += test_dist[gram] * math.log(train_dist[gram])\n",
    "            \n",
    "            ##pp += math.log(train_dist[gram])\n",
    "        else:\n",
    "            #pp += test_dist[gram] * math.log(alpha / (train_text.count(\" \".join(gram[:-1])) + alpha*V_t))\n",
    "            try:\n",
    "                if not is_interpolated:\n",
    "                    pp += test_dist[gram] * math.log(alpha / (train_1[gram[:-1]] + alpha*V_2))\n",
    "                else:\n",
    "                    pp += 0\n",
    "                ##pp += math.log(alpha / (train_2[gram[:-1]] + alpha*V))\n",
    "                #print(\"Here\")\n",
    "            except KeyError:\n",
    "                pp += 0\n",
    "    pp = math.exp(-pp)\n",
    "    return pp"
   ]
  },
  {
   "cell_type": "code",
   "execution_count": 40,
   "metadata": {
    "collapsed": true
   },
   "outputs": [],
   "source": [
    "def compute_perplexity_3(test_dist, train_dist, is_interpolated = False):\n",
    "    #print(len(list(train_dist.keys())[0]))\n",
    "    #print(len(list(test_dist.keys())[0]))\n",
    "    assert len(list(train_dist.keys())[0]) == len(list(test_dist.keys())[0])\n",
    "    n = list(train_dist.keys())[0]\n",
    "    pp = 0\n",
    "    V_3 = len(train_dist)\n",
    "    for gram in test_dist.keys():\n",
    "        if gram in train_dist:\n",
    "            pp += test_dist[gram] * math.log(train_dist[gram])\n",
    "            ##pp += math.log(train_dist[gram])\n",
    "        else:\n",
    "            #pp += test_dist[gram] * math.log(alpha / (train_text.count(\" \".join(gram[:-1])) + alpha*V_t))\n",
    "            try:\n",
    "                if not is_interpolated:\n",
    "                    pp += test_dist[gram] * math.log(alpha / (train_2[gram[:-1]] + alpha*V_3))\n",
    "                else:\n",
    "                    pp += 0\n",
    "                ##pp += math.log(alpha / (train_2[gram[:-1]] + alpha*V))\n",
    "                #print(\"Here\")\n",
    "            except KeyError:\n",
    "                pp += 0\n",
    "    print(pp)\n",
    "    pp = math.exp(-pp)\n",
    "    return pp"
   ]
  },
  {
   "cell_type": "code",
   "execution_count": 41,
   "metadata": {},
   "outputs": [
    {
     "name": "stdout",
     "output_type": "stream",
     "text": [
      "2.34589157995262\n",
      "0.0957617847704256\n",
      "-0.6474186305543224\n",
      "1.9106024870306921\n"
     ]
    }
   ],
   "source": [
    "#print(compute_perplexity(test_vocabs_tri,smoothed_vocabs_tri))\n",
    "print(compute_perplexity_1(testf_1,s_probs_1))\n",
    "print(compute_perplexity_3(testf_3,s_probs_3))"
   ]
  },
  {
   "cell_type": "code",
   "execution_count": 42,
   "metadata": {
    "collapsed": true
   },
   "outputs": [],
   "source": [
    "probs_I_3 = {k:v for k,v in probs_3.items()}\n",
    "for k in probs_3:\n",
    "    probs_I_3[k] = ((1/3) * probs_1[k[-1]]) + ((1/3) * probs_2[k[1:]]) + ((1/3) * probs_3[k])\n"
   ]
  },
  {
   "cell_type": "code",
   "execution_count": 43,
   "metadata": {},
   "outputs": [
    {
     "name": "stdout",
     "output_type": "stream",
     "text": [
      "-0.07142520869179807\n",
      "1.0740378190037534\n"
     ]
    }
   ],
   "source": [
    "print(compute_perplexity_3(testf_3,probs_I_3, is_interpolated=True))"
   ]
  },
  {
   "cell_type": "code",
   "execution_count": 44,
   "metadata": {},
   "outputs": [
    {
     "name": "stdout",
     "output_type": "stream",
     "text": [
      "Smoothed: [(0.8653846153846154, ('lord', 'st', 'simon')), (0.8455882352941176, ('what', 'do', 'you')), (0.8189655172413793, ('as', 'far', 'as')), (0.8024691358024691, ('mr', 'hosmer', 'angel')), (0.7692307692307693, ('one', 'or', 'two')), (0.7575757575757576, ('the', 'copper', 'beeches')), (0.7575757575757576, ('in', 'spite', 'of')), (0.7575757575757576, ('beg', 'that', 'you')), (0.7377049180327869, ('mr', 'neville', 'st')), (0.7359307359307359, ('i', 'do', 'not'))]\n",
      "\n",
      "Interpolated: [(0.8907694154363222, ('to', 'protect', 'the')), (0.8907694154363222, ('suddenly', 'realising', 'the')), (0.8907694154363222, ('could', 'distinguish', 'the')), (0.8352138598807666, ('up', 'onto', 'the')), (0.8074360821029888, ('i', 'rang', 'the')), (0.7955313201982268, ('from', 'amid', 'the')), (0.7867002760773016, ('were', 'twins', 'and')), (0.7867002760773016, ('an', 'orphan', 'and')), (0.7867002760773016, ('a', 'widower', 'and')), (0.7860075106744173, ('up', 'among', 'the'))]\n"
     ]
    }
   ],
   "source": [
    "sorted_3_s = sorted( ((v,k) for k,v in s_probs_3.items()), reverse=True)\n",
    "sorted_3_I = sorted( ((v,k) for k,v in probs_I_3.items()), reverse=True)\n",
    "print(\"Smoothed:\",sorted_3_s[:10])\n",
    "print(\"\\nInterpolated:\",sorted_3_I[:10])"
   ]
  },
  {
   "cell_type": "markdown",
   "metadata": {},
   "source": [
    "### Cross Validation"
   ]
  },
  {
   "cell_type": "code",
   "execution_count": 45,
   "metadata": {
    "collapsed": true
   },
   "outputs": [],
   "source": [
    "kfold_path = 'data/kfold.txt'"
   ]
  },
  {
   "cell_type": "code",
   "execution_count": 46,
   "metadata": {},
   "outputs": [
    {
     "name": "stdout",
     "output_type": "stream",
     "text": [
      "Reading file: data/kfold.txt\n",
      "26395\n"
     ]
    }
   ],
   "source": [
    "kf_text = normalize_text(kfold_path)\n",
    "N_kf = len(kf_text.split())\n",
    "print (N_kf)"
   ]
  },
  {
   "cell_type": "code",
   "execution_count": 47,
   "metadata": {
    "collapsed": true
   },
   "outputs": [],
   "source": [
    "K = 5\n",
    "lmb = (np.arange(0.0,1.01,0.01))"
   ]
  },
  {
   "cell_type": "code",
   "execution_count": 48,
   "metadata": {
    "collapsed": true
   },
   "outputs": [],
   "source": [
    "def kfold(text, lmb1, k=5):\n",
    "    lmb2 = 1 - lmb1\n",
    "    N_k = len(text)\n",
    "    ind = N_k // k\n",
    "    pp_vals = []\n",
    "    for i in range(K):\n",
    "        val_data = text[i*ind:(i+1)*ind]\n",
    "        # Combine rest of data to training data\n",
    "        train_data = text[:i*ind] + text[(i+1)*ind:]\n",
    "        uni_counts, bi_counts, tri_counts = get_counts(train_data)\n",
    "        uni_probs, bi_probs, _ = generate_probs(train_text,(uni_counts,bi_counts,tri_counts))\n",
    "        N_val = len(val_data)\n",
    "        # Generate P_I_2 (Interpolated Bi-gram)\n",
    "        probs_I_2 = {k:v for k,v in bi_probs.items()}\n",
    "        for m in bi_probs:\n",
    "            probs_I_2[m] = (lmb1 * uni_probs[m[-1]]) + (lmb2 * bi_probs[m])\n",
    "        uni_val_counts, bi_val_counts, _ = get_counts(val_data)\n",
    "        #rf_val_uni = {k:v/N_val for k,v in uni_val_counts.items()}\n",
    "        rf_val_bi = {k:v/N_val for k,v in bi_val_counts.items()}\n",
    "        \n",
    "        pp_vals.append(compute_perplexity_2(rf_val_bi,probs_I_2,is_interpolated=True))\n",
    "    mean = np.mean(pp_vals)\n",
    "    return mean"
   ]
  },
  {
   "cell_type": "code",
   "execution_count": 49,
   "metadata": {},
   "outputs": [
    {
     "name": "stdout",
     "output_type": "stream",
     "text": [
      "Minimum PP: 1.15623863731 Lambda1: 0.49 Lambda2: 0.51\n"
     ]
    }
   ],
   "source": [
    "# Call kfold for varying lmb1\n",
    "pp = []\n",
    "min_lmb = None\n",
    "min_pp = 1000000\n",
    "for lmb1 in lmb:\n",
    "    pp.append(kfold(kf_text,lmb1))\n",
    "    if pp[-1] < min_pp:\n",
    "        min_pp = pp[-1]\n",
    "        min_lmb = lmb1\n",
    "print(\"Minimum PP:\",min_pp,\"Lambda1:\",min_lmb,\"Lambda2:\",(1-min_lmb))"
   ]
  },
  {
   "cell_type": "code",
   "execution_count": 50,
   "metadata": {},
   "outputs": [
    {
     "data": {
      "image/png": "[encoded data removed]",
      "text/plain": [
       "<matplotlib.figure.Figure at 0x23f2413d9e8>"
      ]
     },
     "metadata": {},
     "output_type": "display_data"
    }
   ],
   "source": [
    "plt.plot(lmb,pp);\n",
    "plt.show()"
   ]
  },
  {
   "cell_type": "code",
   "execution_count": null,
   "metadata": {
    "collapsed": true
   },
   "outputs": [],
   "source": []
  }
 ],
 "metadata": {
  "kernelspec": {
   "display_name": "Python 3",
   "language": "python",
   "name": "python3"
  },
  "language_info": {
   "codemirror_mode": {
    "name": "ipython",
    "version": 3
   },
   "file_extension": ".py",
   "mimetype": "text/x-python",
   "name": "python",
   "nbconvert_exporter": "python",
   "pygments_lexer": "ipython3",
   "version": "3.6.1"
  }
 },
 "nbformat": 4,
 "nbformat_minor": 2
}
