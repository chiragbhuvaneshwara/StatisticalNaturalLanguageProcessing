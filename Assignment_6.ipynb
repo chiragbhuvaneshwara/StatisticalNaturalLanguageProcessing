{
 "cells": [
  {
   "cell_type": "code",
   "execution_count": 41,
   "metadata": {
    "collapsed": true
   },
   "outputs": [],
   "source": [
    "import math\n",
    "import os\n",
    "import re\n",
    "import string\n",
    "import matplotlib.pyplot as plt\n",
    "import numpy as np"
   ]
  },
  {
   "cell_type": "code",
   "execution_count": 42,
   "metadata": {
    "collapsed": true
   },
   "outputs": [],
   "source": [
    "# Set figure size\n",
    "fig_size = [0,0]\n",
    "fig_size[0] = 10\n",
    "fig_size[1] = 7\n",
    "plt.rcParams[\"figure.figsize\"] = fig_size"
   ]
  },
  {
   "cell_type": "code",
   "execution_count": 43,
   "metadata": {
    "collapsed": true
   },
   "outputs": [],
   "source": [
    "corpus_path = \"corpus/\"\n",
    "auth1 = 'james'\n",
    "auth2 = 'london'"
   ]
  },
  {
   "cell_type": "code",
   "execution_count": 44,
   "metadata": {
    "collapsed": true
   },
   "outputs": [],
   "source": [
    "def normalize_text(name):\n",
    "    print(\"Reading file:\",name)\n",
    "    with open(name,encoding='utf8') as f:\n",
    "        text = f.read()\n",
    "    text = text.lower()\n",
    "    text = re.sub('['+string.punctuation+']', '', text)\n",
    "    text = re.sub('[0-9]','',text)\n",
    "    return text"
   ]
  },
  {
   "cell_type": "code",
   "execution_count": 45,
   "metadata": {
    "collapsed": true
   },
   "outputs": [],
   "source": [
    "def get_counts(text):\n",
    "    uni_counts = {}\n",
    "    txt_list = text.split()\n",
    "    for w in txt_list:\n",
    "        if w not in uni_counts:\n",
    "            uni_counts[w] = 1\n",
    "        else:\n",
    "            uni_counts[w] += 1\n",
    "    return uni_counts"
   ]
  },
  {
   "cell_type": "code",
   "execution_count": 46,
   "metadata": {},
   "outputs": [
    {
     "name": "stdout",
     "output_type": "stream",
     "text": [
      "Reading file: corpus/james\\Henry James___1.txt\n",
      "Reading file: corpus/james\\Henry James___2.txt\n",
      "Reading file: corpus/james\\Henry James___3.txt\n",
      "Reading file: corpus/london\\Jack London___1.txt\n",
      "Reading file: corpus/london\\Jack London___2.txt\n",
      "Reading file: corpus/london\\Jack London___3.txt\n"
     ]
    }
   ],
   "source": [
    "directory1 = os.path.join(corpus_path,auth1)\n",
    "list_files1 = os.listdir(directory1)\n",
    "james_text = \"\"\n",
    "for file in list_files1:\n",
    "    name = os.path.join(directory1,file)\n",
    "    james_text += normalize_text(name) + \" \"\n",
    "james_text = james_text.strip()\n",
    "james_counts = get_counts(james_text)\n",
    "directory2 = os.path.join(corpus_path,auth2)\n",
    "list_files2 = os.listdir(directory2)\n",
    "london_text = \"\"\n",
    "for file in list_files2:\n",
    "    name = os.path.join(directory2,file)\n",
    "    london_text += normalize_text(name) + \" \"\n",
    "london_text = london_text.strip()\n",
    "london_counts = get_counts(london_text)"
   ]
  },
  {
   "cell_type": "code",
   "execution_count": 47,
   "metadata": {
    "collapsed": true
   },
   "outputs": [],
   "source": [
    "top_james = sorted( ((v,k) for k,v in james_counts.items()), reverse=True)[:10]\n",
    "top_london = sorted( ((v,k) for k,v in london_counts.items()), reverse=True)[:10]\n",
    "\n",
    "top_james_vals = [x[0] for x in top_james]\n",
    "top_james_keys = [x[1] for x in top_james]\n",
    "\n",
    "top_london_vals = [x[0] for x in top_london]\n",
    "top_london_keys = [x[1] for x in top_london]"
   ]
  },
  {
   "cell_type": "code",
   "execution_count": 48,
   "metadata": {},
   "outputs": [
    {
     "data": {
      "image/png": "[encoded data removed]",
      "text/plain": [
       "<matplotlib.figure.Figure at 0x14a46a570b8>"
      ]
     },
     "metadata": {},
     "output_type": "display_data"
    }
   ],
   "source": [
    "plt.subplot(1,2,1)\n",
    "plt.bar(range(1,11),top_james_vals)\n",
    "plt.tight_layout()\n",
    "plt.xticks(range(1,11),top_james_keys)\n",
    "plt.xlabel('Token')\n",
    "plt.ylabel('Absolute Frequency')\n",
    "plt.title('Henry James Top 10 Tokens')\n",
    "plt.subplot(1,2,2)\n",
    "plt.bar(range(1,11),top_london_vals,color='orange')\n",
    "plt.tight_layout()\n",
    "plt.xticks(range(1,11),top_london_keys)\n",
    "plt.xlabel('Token')\n",
    "plt.ylabel('Absolute Frequency')\n",
    "plt.title('Jack London Top 10 Tokens')\n",
    "plt.show()"
   ]
  },
  {
   "cell_type": "code",
   "execution_count": 49,
   "metadata": {
    "collapsed": true
   },
   "outputs": [],
   "source": [
    "V_james = len(james_counts)\n",
    "N_james = sum(list(james_counts.values()))\n",
    "\n",
    "V_london = len(london_counts)\n",
    "N_london = sum(list(london_counts.values()))"
   ]
  },
  {
   "cell_type": "code",
   "execution_count": 50,
   "metadata": {},
   "outputs": [
    {
     "name": "stdout",
     "output_type": "stream",
     "text": [
      "6206\n",
      "11153\n",
      "14086\n"
     ]
    }
   ],
   "source": [
    "vocab_train = (set(list(james_counts.keys())+list(london_counts.keys())))\n",
    "print((V_james))\n",
    "print((V_london))\n",
    "print(len(vocab_train))\n",
    "V_train = len(vocab_train)"
   ]
  },
  {
   "cell_type": "code",
   "execution_count": 51,
   "metadata": {
    "collapsed": true
   },
   "outputs": [],
   "source": [
    "def generate_probs(train_1,smooth=False,alpha=0.0,N=None,V=None):\n",
    "    #vocabs = []\n",
    "    probs_1 = {}\n",
    "    assert N is not None\n",
    "    if smooth:\n",
    "        assert V is not None\n",
    "    for word in vocab_train:\n",
    "        if word in train_1:\n",
    "    #for word in train_1:\n",
    "            if not smooth:\n",
    "                #probs_1 = {k:v/N for k,v in train_1.items()}\n",
    "                probs_1[word] = train_1[word] / N\n",
    "            else:\n",
    "                probs_1[word] = (train_1[word] + alpha) / (N + alpha * V)\n",
    "        else:\n",
    "            if not smooth:\n",
    "            #probs_1 = {k:v/N for k,v in train_1.items()}\n",
    "                probs_1[word] = 0.0\n",
    "            else:\n",
    "                probs_1[word] = (0.0 + alpha) / (N + alpha * V)\n",
    "    return probs_1"
   ]
  },
  {
   "cell_type": "code",
   "execution_count": 52,
   "metadata": {
    "collapsed": true
   },
   "outputs": [],
   "source": [
    "alpha=0.1\n",
    "james_prob = generate_probs(james_counts,smooth=True,alpha=alpha,N=N_james,V=V_train)\n",
    "london_prob = generate_probs(london_counts,smooth=True,alpha=alpha,N=N_london,V=V_train)\n",
    "train_probs = [james_prob,london_prob]"
   ]
  },
  {
   "cell_type": "code",
   "execution_count": 53,
   "metadata": {
    "collapsed": true
   },
   "outputs": [],
   "source": [
    "D_james = len(os.listdir(os.path.join(corpus_path,auth1)))\n",
    "D_london = len(os.listdir(os.path.join(corpus_path,auth2)))\n",
    "P_classes = []\n",
    "P_classes.append(D_james / (D_james + D_london))\n",
    "P_classes.append(D_london / (D_james + D_london))\n",
    "unk_prob = []\n",
    "# unk_prob.append((0.0 + alpha) / (N_james + alpha * V_james))\n",
    "# unk_prob.append((0.0 + alpha) / (N_london + alpha * V_london))\n",
    "unk_prob.append((0.0 + alpha) / (N_james + alpha * V_train))\n",
    "unk_prob.append((0.0 + alpha) / (N_london + alpha * V_train))"
   ]
  },
  {
   "cell_type": "code",
   "execution_count": 54,
   "metadata": {},
   "outputs": [
    {
     "name": "stdout",
     "output_type": "stream",
     "text": [
      "Reading file: corpus/test\\test1.txt\n",
      "Reading file: corpus/test\\test2.txt\n",
      "Reading file: corpus/test\\test3.txt\n",
      "3\n"
     ]
    }
   ],
   "source": [
    "test_dir = 'test'\n",
    "directory = os.path.join(corpus_path,test_dir)\n",
    "test_files = os.listdir(directory)\n",
    "test_texts = []\n",
    "for file in test_files:\n",
    "    test_texts.append(normalize_text(os.path.join(directory,file)))\n",
    "print(len(test_texts))"
   ]
  },
  {
   "cell_type": "code",
   "execution_count": 55,
   "metadata": {},
   "outputs": [],
   "source": [
    "test_text = [x.split() for x in test_texts]"
   ]
  },
  {
   "cell_type": "code",
   "execution_count": 58,
   "metadata": {},
   "outputs": [
    {
     "name": "stdout",
     "output_type": "stream",
     "text": [
      "Predicted author of document \"test1.txt\" is Henry James\n",
      "Predicted author of document \"test2.txt\" is Jack London\n",
      "Predicted author of document \"test3.txt\" is Jack London\n"
     ]
    }
   ],
   "source": [
    "'''\n",
    "Naive Bayes Classifier\n",
    "0 --> Author1 i.e. Henry James\n",
    "1 --> Author2 i.e. Jack London\n",
    "'''\n",
    "preds = []\n",
    "for text in test_text:\n",
    "    #vocab_test = list(set(text))\n",
    "    vocab_test = text\n",
    "    #print(\"Test vocab size:\",len(vocab_test))\n",
    "    prob_class = []\n",
    "    '''\n",
    "    Compute log probabilities. Then max_prob = max_log(prob)\n",
    "    '''\n",
    "    for i in range(len(P_classes)):\n",
    "        log_prob = math.log(P_classes[i])\n",
    "        for token in vocab_test:\n",
    "            if token in train_probs[i]:\n",
    "                #print(\"Here\")\n",
    "                log_prob += math.log(train_probs[i][token])\n",
    "            else:\n",
    "                log_prob += math.log(unk_prob[i])\n",
    "        prob_class.append(log_prob)\n",
    "    #print(\"Probs:\",prob_class)\n",
    "    preds.append(prob_class.index(max(prob_class)))\n",
    "\n",
    "'''\n",
    "Now print the predictions\n",
    "'''\n",
    "for i in range(len(test_files)):\n",
    "    if preds[i] == 0:\n",
    "        pred = \"Henry James\"\n",
    "    else:\n",
    "        pred = \"Jack London\"\n",
    "    print(\"Predicted author of document \\\"\"+test_files[i]+\"\\\" is \"+pred)\n",
    "#print(preds)"
   ]
  },
  {
   "cell_type": "code",
   "execution_count": null,
   "metadata": {
    "collapsed": true
   },
   "outputs": [],
   "source": []
  }
 ],
 "metadata": {
  "kernelspec": {
   "display_name": "Python 3",
   "language": "python",
   "name": "python3"
  },
  "language_info": {
   "codemirror_mode": {
    "name": "ipython",
    "version": 3
   },
   "file_extension": ".py",
   "mimetype": "text/x-python",
   "name": "python",
   "nbconvert_exporter": "python",
   "pygments_lexer": "ipython3",
   "version": "3.6.1"
  }
 },
 "nbformat": 4,
 "nbformat_minor": 2
}
